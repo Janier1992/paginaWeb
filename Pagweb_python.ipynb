{
  "nbformat": 4,
  "nbformat_minor": 0,
  "metadata": {
    "colab": {
      "provenance": [],
      "authorship_tag": "ABX9TyNG8gmEgsNz2jx3UmzcOoQE",
      "include_colab_link": true
    },
    "kernelspec": {
      "name": "python3",
      "display_name": "Python 3"
    },
    "language_info": {
      "name": "python"
    }
  },
  "cells": [
    {
      "cell_type": "markdown",
      "metadata": {
        "id": "view-in-github",
        "colab_type": "text"
      },
      "source": [
        "<a href=\"https://colab.research.google.com/github/Janier1992/paginaWeb/blob/main/Pagweb_python.ipynb\" target=\"_parent\"><img src=\"https://colab.research.google.com/assets/colab-badge.svg\" alt=\"Open In Colab\"/></a>"
      ]
    },
    {
      "cell_type": "code",
      "execution_count": 3,
      "metadata": {
        "colab": {
          "base_uri": "https://localhost:8080/"
        },
        "id": "M36ZxCBMozE8",
        "outputId": "4f089772-f1e2-4731-80ad-03dce3446842"
      },
      "outputs": [
        {
          "output_type": "stream",
          "name": "stdout",
          "text": [
            "Archivo HTML creado con éxito!\n"
          ]
        }
      ],
      "source": [
        "# Crear el contenido HTML\n",
        "html_content = \"\"\"\n",
        "<!DOCTYPE html>\n",
        "<html lang=\"es\">\n",
        "<head>\n",
        "    <meta charset=\"UTF-8\">\n",
        "    <meta name=\"viewport\" content=\"width=device-width, initial-scale=1.0\">\n",
        "    <title>Página de Inspección en Producción</title>\n",
        "    <style>\n",
        "        body {\n",
        "            font-family: Arial, sans-serif;\n",
        "            margin: 0;\n",
        "            padding: 0;\n",
        "            background-color: #f4f4f4;\n",
        "        }\n",
        "        header {\n",
        "            background-color: #4CAF50;\n",
        "            color: white;\n",
        "            text-align: center;\n",
        "            padding: 1rem 0;\n",
        "        }\n",
        "        nav {\n",
        "            display: flex;\n",
        "            justify-content: space-around;\n",
        "            background-color: #333;\n",
        "        }\n",
        "        nav a {\n",
        "            color: white;\n",
        "            padding: 14px 20px;\n",
        "            text-decoration: none;\n",
        "            text-align: center;\n",
        "        }\n",
        "        nav a:hover {\n",
        "            background-color: #ddd;\n",
        "            color: black;\n",
        "        }\n",
        "        section {\n",
        "            padding: 20px;\n",
        "        }\n",
        "        footer {\n",
        "            background-color: #333;\n",
        "            color: white;\n",
        "            text-align: center;\n",
        "            padding: 10px 0;\n",
        "            position: fixed;\n",
        "            bottom: 0;\n",
        "            width: 100%;\n",
        "        }\n",
        "        .form-container, .kpi-container, .info-container {\n",
        "            background: white;\n",
        "            padding: 20px;\n",
        "            margin: 20px 0;\n",
        "            border-radius: 5px;\n",
        "            box-shadow: 0 0 10px rgba(0,0,0,0.1);\n",
        "        }\n",
        "    </style>\n",
        "</head>\n",
        "<body>\n",
        "\n",
        "<header>\n",
        "    <h1>Página de Inspección en Producción</h1>\n",
        "</header>\n",
        "\n",
        "<nav>\n",
        "    <a href=\"#form\">Formularios de Inspección</a>\n",
        "    <a href=\"#kpi\">Indicadores de Rendimiento</a>\n",
        "    <a href=\"#info\">Información y Instructivos</a>\n",
        "</nav>\n",
        "\n",
        "<section id=\"form\">\n",
        "    <div class=\"form-container\">\n",
        "        <h2>Formularios de Inspección</h2>\n",
        "        <form action=\"#\" method=\"post\">\n",
        "            <label for=\"inspector\">Inspector:</label><br>\n",
        "            <input type=\"text\" id=\"inspector\" name=\"inspector\"><br><br>\n",
        "            <label for=\"section\">Sección:</label><br>\n",
        "            <input type=\"text\" id=\"section\" name=\"section\"><br><br>\n",
        "            <label for=\"date\">Fecha:</label><br>\n",
        "            <input type=\"date\" id=\"date\" name=\"date\"><br><br>\n",
        "            <label for=\"comments\">Comentarios:</label><br>\n",
        "            <textarea id=\"comments\" name=\"comments\" rows=\"4\" cols=\"50\"></textarea><br><br>\n",
        "            <input type=\"submit\" value=\"Enviar\">\n",
        "        </form>\n",
        "    </div>\n",
        "</section>\n",
        "\n",
        "<section id=\"kpi\">\n",
        "    <div class=\"kpi-container\">\n",
        "        <h2>Indicadores de Rendimiento</h2>\n",
        "        <p>En esta sección se mostrarán los KPIs generados a partir de los registros de inspección.</p>\n",
        "        <!-- Aquí puedes incluir gráficos y datos de los KPIs utilizando librerías como Chart.js -->\n",
        "    </div>\n",
        "</section>\n",
        "\n",
        "<section id=\"info\">\n",
        "    <div class=\"info-container\">\n",
        "        <h2>Información e Instructivos</h2>\n",
        "        <p>En esta sección, puedes agregar documentos, videos e instrucciones para retroalimentar a los colaboradores.</p>\n",
        "        <!-- Aquí puedes incluir enlaces a documentos e instructivos -->\n",
        "    </div>\n",
        "</section>\n",
        "\n",
        "<footer>\n",
        "    <p>&copy; 2024 Página de Inspección en Producción</p>\n",
        "</footer>\n",
        "\n",
        "</body>\n",
        "</html>\n",
        "\"\"\"\n",
        "\n",
        "# Guardar el contenido HTML en un archivo\n",
        "with open('index.html', 'w') as file:\n",
        "    file.write(html_content)\n",
        "\n",
        "print(\"Archivo HTML creado con éxito!\")"
      ]
    },
    {
      "cell_type": "code",
      "source": [
        "from google.colab import files\n",
        "files.download('index.html')"
      ],
      "metadata": {
        "colab": {
          "base_uri": "https://localhost:8080/",
          "height": 17
        },
        "id": "Vhgk7Nn2pUiB",
        "outputId": "1eb6e2a2-4681-4703-e791-63aa63145502"
      },
      "execution_count": 5,
      "outputs": [
        {
          "output_type": "display_data",
          "data": {
            "text/plain": [
              "<IPython.core.display.Javascript object>"
            ],
            "application/javascript": [
              "\n",
              "    async function download(id, filename, size) {\n",
              "      if (!google.colab.kernel.accessAllowed) {\n",
              "        return;\n",
              "      }\n",
              "      const div = document.createElement('div');\n",
              "      const label = document.createElement('label');\n",
              "      label.textContent = `Downloading \"${filename}\": `;\n",
              "      div.appendChild(label);\n",
              "      const progress = document.createElement('progress');\n",
              "      progress.max = size;\n",
              "      div.appendChild(progress);\n",
              "      document.body.appendChild(div);\n",
              "\n",
              "      const buffers = [];\n",
              "      let downloaded = 0;\n",
              "\n",
              "      const channel = await google.colab.kernel.comms.open(id);\n",
              "      // Send a message to notify the kernel that we're ready.\n",
              "      channel.send({})\n",
              "\n",
              "      for await (const message of channel.messages) {\n",
              "        // Send a message to notify the kernel that we're ready.\n",
              "        channel.send({})\n",
              "        if (message.buffers) {\n",
              "          for (const buffer of message.buffers) {\n",
              "            buffers.push(buffer);\n",
              "            downloaded += buffer.byteLength;\n",
              "            progress.value = downloaded;\n",
              "          }\n",
              "        }\n",
              "      }\n",
              "      const blob = new Blob(buffers, {type: 'application/binary'});\n",
              "      const a = document.createElement('a');\n",
              "      a.href = window.URL.createObjectURL(blob);\n",
              "      a.download = filename;\n",
              "      div.appendChild(a);\n",
              "      a.click();\n",
              "      div.remove();\n",
              "    }\n",
              "  "
            ]
          },
          "metadata": {}
        },
        {
          "output_type": "display_data",
          "data": {
            "text/plain": [
              "<IPython.core.display.Javascript object>"
            ],
            "application/javascript": [
              "download(\"download_bbd8b801-f3cc-4650-a621-9ec13866b138\", \"index.html\", 3165)"
            ]
          },
          "metadata": {}
        }
      ]
    },
    {
      "cell_type": "code",
      "source": [
        "!git config --global user.name \"Tu Nombre\"\n",
        "!git config --global user.email \"tu.email@example.com\""
      ],
      "metadata": {
        "id": "a0MvsKcVqMrB"
      },
      "execution_count": 7,
      "outputs": []
    },
    {
      "cell_type": "code",
      "source": [
        "!git clone https://github.com/tu-usuario/tu-repositorio.git"
      ],
      "metadata": {
        "colab": {
          "base_uri": "https://localhost:8080/"
        },
        "id": "EtqmKAkRqVUB",
        "outputId": "819dccb0-e317-4fdd-f3d8-fcb799b2f593"
      },
      "execution_count": 8,
      "outputs": [
        {
          "output_type": "stream",
          "name": "stdout",
          "text": [
            "Cloning into 'tu-repositorio'...\n",
            "fatal: could not read Username for 'https://github.com': No such device or address\n"
          ]
        }
      ]
    },
    {
      "cell_type": "code",
      "source": [
        "!mv index.html tu-repositorio/"
      ],
      "metadata": {
        "colab": {
          "base_uri": "https://localhost:8080/"
        },
        "id": "XgvQ2eibqfkj",
        "outputId": "64dd6d00-b666-4df0-ced6-9abecc0bc70a"
      },
      "execution_count": 9,
      "outputs": [
        {
          "output_type": "stream",
          "name": "stdout",
          "text": [
            "mv: cannot move 'index.html' to 'tu-repositorio/': Not a directory\n"
          ]
        }
      ]
    }
  ]
}